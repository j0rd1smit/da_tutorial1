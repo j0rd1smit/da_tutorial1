{
 "cells": [
  {
   "cell_type": "code",
   "execution_count": null,
   "metadata": {},
   "outputs": [],
   "source": [
    "#Installs all the libaries you need\n",
    "import sys\n",
    "!{sys.executable} -m pip install numpy matplotlib pandas xlrd openpyxl"
   ]
  },
  {
   "cell_type": "code",
   "execution_count": null,
   "metadata": {},
   "outputs": [],
   "source": [
    "import numpy as np\n",
    "import csv\n",
    "import pandas as pd\n",
    "import matplotlib.pyplot as plt\n",
    "np.set_printoptions(suppress=True)"
   ]
  },
  {
   "cell_type": "markdown",
   "metadata": {},
   "source": [
    "### Exercise \n",
    "$$Fahrenheit = Celsius * \\frac{9}{5} + 32$$"
   ]
  },
  {
   "cell_type": "code",
   "execution_count": null,
   "metadata": {},
   "outputs": [],
   "source": [
    "def fahrenheit_from_celsius(degrees_celsius):\n",
    "    return 0"
   ]
  },
  {
   "cell_type": "code",
   "execution_count": null,
   "metadata": {},
   "outputs": [],
   "source": [
    "degrees_celsius = 20.0\n",
    "print(f\"{degrees_celsius}° Celsius is the same as {fahrenheit_from_celsius(degrees_celsius)}° Fahrenheit\")"
   ]
  },
  {
   "cell_type": "markdown",
   "metadata": {},
   "source": [
    "### Exercise"
   ]
  },
  {
   "cell_type": "code",
   "execution_count": null,
   "metadata": {},
   "outputs": [],
   "source": [
    "celsius = [0, 5, 10, 15, 25, 30]\n",
    "fahrenheit = []\n",
    "#TODO\n",
    "\n",
    "print(f\"celsius={celsius}\")\n",
    "print(f\"fahrenheit={fahrenheit}\")"
   ]
  },
  {
   "cell_type": "markdown",
   "metadata": {},
   "source": [
    "### Exercise\n",
    "Using matrix multiplication and the inverse, we can now use numpy to solve the following equation:\n",
    "\n",
    "$$ A\\cdot B \\cdot A = C$$\n",
    "Given $A$ and $C$ what is $B$?\n",
    "\n",
    "\n",
    "__hint__: remember for linear algebra that $B = A^{-1} \\cdot C  \\cdot A^{-1}$"
   ]
  },
  {
   "cell_type": "code",
   "execution_count": null,
   "metadata": {},
   "outputs": [],
   "source": [
    "A = np.array([[1, 2, 3], [3, 1, 2], [2, 3, 1]])\n",
    "C = np.array([[1, 2, 3], [4, 5, 6], [7, 8, 9]])\n",
    "\n",
    "B = None\n",
    "print(\"B =\")\n",
    "print(B)\n",
    "print(\"A @ B @ A = C = \")\n",
    "print(A @ B @ A)"
   ]
  },
  {
   "cell_type": "markdown",
   "metadata": {},
   "source": [
    "### Exercise\n",
    "With these eigen vectors and eigen values functions we can now also do singular value decomposition. Remember that we can do SVD using the formula:\n",
    "\n",
    "$$A = S \\cdot D \\cdot S^{-1} $$\n",
    "\n",
    "Whereby each collumn of $S$ is an eigenvector and $D$ is a diagonal matrix whereby the values on the diagonal are the eigenvalues.\n",
    "\n",
    "__Note__: SVD is __not__ exam material, this was just an example of what Numpy can do. It's ok if you have never heard about it."
   ]
  },
  {
   "cell_type": "code",
   "execution_count": null,
   "metadata": {},
   "outputs": [],
   "source": [
    "S = None\n",
    "D = None\n",
    "S_inv = None\n",
    "\n",
    "print(\"S\")\n",
    "print(S)\n",
    "print(\"D\")\n",
    "print(D)\n",
    "print(\"S_inv\")\n",
    "print(S_inv)"
   ]
  },
  {
   "cell_type": "markdown",
   "metadata": {},
   "source": [
    "### Exercise\n",
    "For a given dataset we can calculate its normal distribution using the following formula:\n",
    "$$p(x) = \\frac{1}{\\sqrt{2 \\pi \\sigma^2}} e^\\frac{-(x - \\mu)^2}{2 \\sigma^2}$$\n",
    "\n",
    "Whereby $\\mu$ is mean of the data set and $\\sigma^2$ is the variance of the data set.\n",
    "\n",
    "\n",
    "__Hint__: Beaware of the differance between std and var."
   ]
  },
  {
   "cell_type": "code",
   "execution_count": null,
   "metadata": {},
   "outputs": [],
   "source": [
    "def guasian(x, mean, std):\n",
    "    return 0\n",
    "\n",
    "\n",
    "x = 0\n",
    "data = np.array([1, 2, 2, 3, 3, 3, 4, 4, 4, 4, 5, 5, 5, 5, 5])\n",
    "mean = 0\n",
    "std = 1\n",
    "print(f\"pdf({x}) = {guasian(x, mean, std)}\")"
   ]
  },
  {
   "cell_type": "markdown",
   "metadata": {},
   "source": [
    "### Exercise\n",
    "Lets consider a $n \\times m$ matrix $M$. Whereby $M_{ij}$ is the rating movie $i$ has recieved from user $j$ and every rating is an integer between $0$ and $4$.We can create a random matrix with these shape in the following way."
   ]
  },
  {
   "cell_type": "code",
   "execution_count": null,
   "metadata": {},
   "outputs": [],
   "source": [
    "np.random.seed(42)\n",
    "n_movies = 20\n",
    "n_people = 10\n",
    "ratings = np.random.randint(5, size=(n_movies, n_people))\n",
    "print(ratings)"
   ]
  },
  {
   "cell_type": "markdown",
   "metadata": {},
   "source": [
    "### Exercise\n",
    "__hint__: You might need the following functions `np.cos`, `np.sin`, `np.argmin` and/or `np.abs`."
   ]
  },
  {
   "cell_type": "code",
   "execution_count": null,
   "metadata": {},
   "outputs": [],
   "source": [
    "start = 0\n",
    "end = 0\n",
    "steps = 1\n",
    "\n",
    "x = 0 #TODO\n",
    "y_cos = [0] #TODO\n",
    "y_sin = [0] #TODO\n",
    "x_intersection = 0 #TODO\n",
    "\n",
    "\n",
    "print(f\"cos({x_intersection}) = sin({x_intersection}) = {y_cos[idx]} = {y_sin[idx]}\")\n",
    "\n",
    "plt.plot(x, y_cos)\n",
    "plt.plot(x, y_sin)\n",
    "plt.show()"
   ]
  },
  {
   "cell_type": "markdown",
   "metadata": {},
   "source": [
    "### Exercise\n",
    "__hint__: You can use `np.unique` to get an array of all the unique elements in a given matrix."
   ]
  },
  {
   "cell_type": "code",
   "execution_count": null,
   "metadata": {},
   "outputs": [],
   "source": [
    "def is_valid_sudoku(sudoku):\n",
    "    #Tutorial question            \n",
    "    return True\n",
    "\n",
    "sudoku0 = np.array([\n",
    " [1,4,5,3,2,7,6,9,8]\n",
    ",[8,3,9,6,5,4,1,2,7]\n",
    ",[6,7,2,1,1,8,5,4,3]\n",
    ",[4,9,6,9,8,5,3,7,2]\n",
    ",[2,1,8,4,7,3,9,5,6]\n",
    ",[7,5,3,2,9,6,4,8,1]\n",
    ",[3,6,7,5,4,2,8,1,9]\n",
    ",[9,8,4,7,6,1,2,3,5]\n",
    ",[5,2,1,8,3,9,7,6,4]\n",
    "])\n",
    "sudoku1 = np.array([\n",
    " [1,4,5,3,2,7,6,9,8]\n",
    ",[8,3,9,6,5,4,1,2,7]\n",
    ",[6,7,1,9,1,8,5,4,3]\n",
    ",[4,9,6,1,8,5,3,7,2]\n",
    ",[2,1,8,4,7,3,9,5,6]\n",
    ",[7,5,3,2,9,6,4,8,1]\n",
    ",[3,6,7,5,4,2,8,1,9]\n",
    ",[9,8,4,7,6,1,2,3,4]\n",
    ",[5,2,1,8,3,9,7,6,5]\n",
    "])\n",
    "sudoku2 = np.array([\n",
    " [1,4,5,3,2,7,6,9,8]\n",
    ",[8,3,9,6,5,4,1,2,7]\n",
    ",[6,7,2,9,1,8,5,4,3]\n",
    ",[4,9,6,1,8,5,3,7,2]\n",
    ",[2,1,8,4,7,3,9,5,6]\n",
    ",[7,5,3,2,9,6,4,8,1]\n",
    ",[3,6,7,5,4,2,8,1,9]\n",
    ",[9,8,4,7,6,1,2,3,5]\n",
    ",[5,2,1,8,3,9,7,6,4]\n",
    "])\n",
    "sudoku3 = np.array([\n",
    " [1,4,5,3,2,7,6,9,8]\n",
    ",[8,3,9,6,8,4,1,2,7]\n",
    ",[6,7,2,9,1,8,5,4,3]\n",
    ",[4,9,6,1,8,5,3,7,2]\n",
    ",[2,1,8,4,7,3,9,5,6]\n",
    ",[7,5,3,2,9,6,4,8,1]\n",
    ",[3,6,7,5,4,2,8,1,9]\n",
    ",[9,8,4,7,6,1,2,3,5]\n",
    ",[5,2,1,8,3,9,7,6,4]\n",
    "])\n",
    "\n",
    "print(is_valid_sudoku(sudoku0))\n",
    "print(is_valid_sudoku(sudoku1))\n",
    "print(is_valid_sudoku(sudoku2))\n",
    "print(is_valid_sudoku(sudoku3))"
   ]
  },
  {
   "cell_type": "markdown",
   "metadata": {},
   "source": [
    "### Exercise"
   ]
  },
  {
   "cell_type": "code",
   "execution_count": null,
   "metadata": {},
   "outputs": [],
   "source": [
    "def read_csv_file(path):\n",
    "    lines = []\n",
    "    with open(\"data/temperatures.csv\", \"r\") as f:\n",
    "        reader = csv.reader(f, delimiter=\",\")\n",
    "        for line in reader:\n",
    "            lines.append(line)\n",
    "    return lines\n",
    "\n",
    "csv_data = read_csv_file(\"data/temperatures.csv\")\n",
    "temperatures = [] #TODO\n",
    "\n",
    "\n",
    "temperatures = np.array(temperatures)\n",
    "mean = 0\n",
    "print(f\"temperatures = {temperatures}\")\n",
    "print(f\"average temperature = {mean}\")"
   ]
  },
  {
   "cell_type": "code",
   "execution_count": null,
   "metadata": {},
   "outputs": [],
   "source": []
  }
 ],
 "metadata": {
  "kernelspec": {
   "display_name": "Python 3",
   "language": "python",
   "name": "python3"
  },
  "language_info": {
   "codemirror_mode": {
    "name": "ipython",
    "version": 3
   },
   "file_extension": ".py",
   "mimetype": "text/x-python",
   "name": "python",
   "nbconvert_exporter": "python",
   "pygments_lexer": "ipython3",
   "version": "3.6.9"
  }
 },
 "nbformat": 4,
 "nbformat_minor": 2
}
